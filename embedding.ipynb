{
 "cells": [
  {
   "cell_type": "code",
   "execution_count": 2,
   "id": "72ce635f",
   "metadata": {},
   "outputs": [
    {
     "name": "stdout",
     "output_type": "stream",
     "text": [
      "2.20.0\n",
      "[]\n"
     ]
    }
   ],
   "source": [
    "import tensorflow as tf\n",
    "print(tf.__version__)\n",
    "print(tf.config.list_physical_devices('GPU'))\n"
   ]
  },
  {
   "cell_type": "code",
   "execution_count": 3,
   "id": "65a7efbe",
   "metadata": {},
   "outputs": [],
   "source": [
    "from tensorflow.keras.preprocessing.text import one_hot\n"
   ]
  },
  {
   "cell_type": "code",
   "execution_count": 4,
   "id": "aefca534",
   "metadata": {},
   "outputs": [],
   "source": [
    "#sentences\n",
    "sent=['the glass of milk',\n",
    "      'the glass of juice',\n",
    "      'the cup of tea',\n",
    "      'im a good boy',\n",
    "      'im a good developer',\n",
    "      'understand the meaning of words',\n",
    "      'your videos are good']"
   ]
  },
  {
   "cell_type": "code",
   "execution_count": 5,
   "id": "b074c254",
   "metadata": {},
   "outputs": [],
   "source": [
    "#define the vocabulary size\n",
    "voc_size=10000"
   ]
  },
  {
   "cell_type": "code",
   "execution_count": 6,
   "id": "4955454f",
   "metadata": {},
   "outputs": [
    {
     "data": {
      "text/plain": [
       "[[6576, 3060, 7020, 8115],\n",
       " [6576, 3060, 7020, 8448],\n",
       " [6576, 7314, 7020, 5599],\n",
       " [5148, 3645, 9131, 7495],\n",
       " [5148, 3645, 9131, 2990],\n",
       " [7181, 6576, 4825, 7020, 9944],\n",
       " [8226, 9074, 1636, 9131]]"
      ]
     },
     "execution_count": 6,
     "metadata": {},
     "output_type": "execute_result"
    }
   ],
   "source": [
    "#one hot representation\n",
    "one_hot_repr=[one_hot(words,voc_size) for words in sent]\n",
    "one_hot_repr"
   ]
  },
  {
   "cell_type": "code",
   "execution_count": 7,
   "id": "b1937957",
   "metadata": {},
   "outputs": [],
   "source": [
    "#word embedding representation\n",
    "\n",
    "\n",
    "from tensorflow.keras.models import Sequential\n",
    "from tensorflow.keras.layers import Embedding\n",
    "from tensorflow.keras.preprocessing.sequence import pad_sequences\n",
    "\n",
    "from tensorflow.keras.utils import pad_sequences\n"
   ]
  },
  {
   "cell_type": "code",
   "execution_count": 8,
   "id": "aa089580",
   "metadata": {},
   "outputs": [],
   "source": [
    "import numpy as np\n"
   ]
  },
  {
   "cell_type": "code",
   "execution_count": 9,
   "id": "d249ca9b",
   "metadata": {},
   "outputs": [],
   "source": [
    "sent_length=8\n",
    "embedded_docs=pad_sequences(one_hot_repr,padding='pre',maxlen=sent_length )"
   ]
  },
  {
   "cell_type": "code",
   "execution_count": 10,
   "id": "32f7b0eb",
   "metadata": {},
   "outputs": [],
   "source": [
    "sent_length = 8\n",
    "\n"
   ]
  },
  {
   "cell_type": "code",
   "execution_count": 11,
   "id": "2b96be7e",
   "metadata": {},
   "outputs": [
    {
     "ename": "NameError",
     "evalue": "name 'onehot_repr' is not defined",
     "output_type": "error",
     "traceback": [
      "\u001b[31m---------------------------------------------------------------------------\u001b[39m",
      "\u001b[31mNameError\u001b[39m                                 Traceback (most recent call last)",
      "\u001b[36mCell\u001b[39m\u001b[36m \u001b[39m\u001b[32mIn[11]\u001b[39m\u001b[32m, line 1\u001b[39m\n\u001b[32m----> \u001b[39m\u001b[32m1\u001b[39m embedded_docs=pad_sequences(\u001b[43monehot_repr\u001b[49m, padding=\u001b[33m'\u001b[39m\u001b[33mpre\u001b[39m\u001b[33m'\u001b[39m, maxlen=sent_length)\n",
      "\u001b[31mNameError\u001b[39m: name 'onehot_repr' is not defined"
     ]
    }
   ],
   "source": [
    "embedded_docs=pad_sequences(onehot_repr, padding='pre', maxlen=sent_length)\n"
   ]
  },
  {
   "cell_type": "code",
   "execution_count": null,
   "id": "c1dded39",
   "metadata": {},
   "outputs": [
    {
     "name": "stdout",
     "output_type": "stream",
     "text": [
      "One Hot Representation:\n",
      " [[5030, 3843, 3964, 438], [5030, 3843, 3964, 3896], [5030, 7391, 3964, 9706], [4428, 3394, 5462, 4883], [4428, 3394, 5462, 4956], [1716, 5030, 2989, 3964, 9132], [7385, 870, 6609, 5462]]\n",
      "\n",
      "Padded Sequences:\n",
      " [[   0    0    0    0 5030 3843 3964  438]\n",
      " [   0    0    0    0 5030 3843 3964 3896]\n",
      " [   0    0    0    0 5030 7391 3964 9706]\n",
      " [   0    0    0    0 4428 3394 5462 4883]\n",
      " [   0    0    0    0 4428 3394 5462 4956]\n",
      " [   0    0    0 1716 5030 2989 3964 9132]\n",
      " [   0    0    0    0 7385  870 6609 5462]]\n"
     ]
    }
   ],
   "source": [
    "from tensorflow.keras.preprocessing.text import one_hot\n",
    "from tensorflow.keras.preprocessing.sequence import pad_sequences\n",
    "\n",
    "# Sentences\n",
    "sent = [\n",
    "    'the glass of milk',\n",
    "    'the glass of juice',\n",
    "    'the cup of tea',\n",
    "    'im a good boy',\n",
    "    'im a good developer',\n",
    "    'understand the meaning of words',\n",
    "    'your videos are good'\n",
    "]\n",
    "\n",
    "# Vocabulary size\n",
    "voc_size = 10000\n",
    "\n",
    "# One hot representation\n",
    "one_hot_repr = [one_hot(words, voc_size) for words in sent]\n",
    "\n",
    "# Sentence length\n",
    "sent_length = 8\n",
    "\n",
    "# Padding\n",
    "embedded_docs = pad_sequences(one_hot_repr, padding='pre', maxlen=sent_length)\n",
    "\n",
    "print(\"One Hot Representation:\\n\", one_hot_repr)\n",
    "print(\"\\nPadded Sequences:\\n\", embedded_docs)\n"
   ]
  },
  {
   "cell_type": "code",
   "execution_count": null,
   "id": "935e1364",
   "metadata": {},
   "outputs": [],
   "source": [
    "#feature representation \n",
    "dim=10"
   ]
  },
  {
   "cell_type": "code",
   "execution_count": null,
   "id": "efe992f7",
   "metadata": {},
   "outputs": [],
   "source": [
    "from tensorflow.keras.models import Sequential\n",
    "from tensorflow.keras.layers import Embedding"
   ]
  },
  {
   "cell_type": "code",
   "execution_count": 13,
   "id": "56be4a48",
   "metadata": {},
   "outputs": [
    {
     "data": {
      "text/html": [
       "<pre style=\"white-space:pre;overflow-x:auto;line-height:normal;font-family:Menlo,'DejaVu Sans Mono',consolas,'Courier New',monospace\"><span style=\"font-weight: bold\">Model: \"sequential_1\"</span>\n",
       "</pre>\n"
      ],
      "text/plain": [
       "\u001b[1mModel: \"sequential_1\"\u001b[0m\n"
      ]
     },
     "metadata": {},
     "output_type": "display_data"
    },
    {
     "data": {
      "text/html": [
       "<pre style=\"white-space:pre;overflow-x:auto;line-height:normal;font-family:Menlo,'DejaVu Sans Mono',consolas,'Courier New',monospace\">┏━━━━━━━━━━━━━━━━━━━━━━━━━━━━━━━━━┳━━━━━━━━━━━━━━━━━━━━━━━━┳━━━━━━━━━━━━━━━┓\n",
       "┃<span style=\"font-weight: bold\"> Layer (type)                    </span>┃<span style=\"font-weight: bold\"> Output Shape           </span>┃<span style=\"font-weight: bold\">       Param # </span>┃\n",
       "┡━━━━━━━━━━━━━━━━━━━━━━━━━━━━━━━━━╇━━━━━━━━━━━━━━━━━━━━━━━━╇━━━━━━━━━━━━━━━┩\n",
       "│ embedding_1 (<span style=\"color: #0087ff; text-decoration-color: #0087ff\">Embedding</span>)         │ ?                      │   <span style=\"color: #00af00; text-decoration-color: #00af00\">0</span> (unbuilt) │\n",
       "└─────────────────────────────────┴────────────────────────┴───────────────┘\n",
       "</pre>\n"
      ],
      "text/plain": [
       "┏━━━━━━━━━━━━━━━━━━━━━━━━━━━━━━━━━┳━━━━━━━━━━━━━━━━━━━━━━━━┳━━━━━━━━━━━━━━━┓\n",
       "┃\u001b[1m \u001b[0m\u001b[1mLayer (type)                   \u001b[0m\u001b[1m \u001b[0m┃\u001b[1m \u001b[0m\u001b[1mOutput Shape          \u001b[0m\u001b[1m \u001b[0m┃\u001b[1m \u001b[0m\u001b[1m      Param #\u001b[0m\u001b[1m \u001b[0m┃\n",
       "┡━━━━━━━━━━━━━━━━━━━━━━━━━━━━━━━━━╇━━━━━━━━━━━━━━━━━━━━━━━━╇━━━━━━━━━━━━━━━┩\n",
       "│ embedding_1 (\u001b[38;5;33mEmbedding\u001b[0m)         │ ?                      │   \u001b[38;5;34m0\u001b[0m (unbuilt) │\n",
       "└─────────────────────────────────┴────────────────────────┴───────────────┘\n"
      ]
     },
     "metadata": {},
     "output_type": "display_data"
    },
    {
     "data": {
      "text/html": [
       "<pre style=\"white-space:pre;overflow-x:auto;line-height:normal;font-family:Menlo,'DejaVu Sans Mono',consolas,'Courier New',monospace\"><span style=\"font-weight: bold\"> Total params: </span><span style=\"color: #00af00; text-decoration-color: #00af00\">0</span> (0.00 B)\n",
       "</pre>\n"
      ],
      "text/plain": [
       "\u001b[1m Total params: \u001b[0m\u001b[38;5;34m0\u001b[0m (0.00 B)\n"
      ]
     },
     "metadata": {},
     "output_type": "display_data"
    },
    {
     "data": {
      "text/html": [
       "<pre style=\"white-space:pre;overflow-x:auto;line-height:normal;font-family:Menlo,'DejaVu Sans Mono',consolas,'Courier New',monospace\"><span style=\"font-weight: bold\"> Trainable params: </span><span style=\"color: #00af00; text-decoration-color: #00af00\">0</span> (0.00 B)\n",
       "</pre>\n"
      ],
      "text/plain": [
       "\u001b[1m Trainable params: \u001b[0m\u001b[38;5;34m0\u001b[0m (0.00 B)\n"
      ]
     },
     "metadata": {},
     "output_type": "display_data"
    },
    {
     "data": {
      "text/html": [
       "<pre style=\"white-space:pre;overflow-x:auto;line-height:normal;font-family:Menlo,'DejaVu Sans Mono',consolas,'Courier New',monospace\"><span style=\"font-weight: bold\"> Non-trainable params: </span><span style=\"color: #00af00; text-decoration-color: #00af00\">0</span> (0.00 B)\n",
       "</pre>\n"
      ],
      "text/plain": [
       "\u001b[1m Non-trainable params: \u001b[0m\u001b[38;5;34m0\u001b[0m (0.00 B)\n"
      ]
     },
     "metadata": {},
     "output_type": "display_data"
    }
   ],
   "source": [
    "from tensorflow.keras.models import Sequential\n",
    "from tensorflow.keras.layers import Embedding\n",
    "\n",
    "model = Sequential()\n",
    "model.add(Embedding(voc_size, 10, input_length=sent_length))  # dim=10 → output_dim=10\n",
    "model.compile(optimizer='adam', loss='mse')\n",
    "model.summary()\n"
   ]
  },
  {
   "cell_type": "code",
   "execution_count": 19,
   "id": "f294da10",
   "metadata": {},
   "outputs": [
    {
     "data": {
      "text/plain": [
       "array([   0,    0,    0,    0, 6576, 3060, 7020, 8115])"
      ]
     },
     "execution_count": 19,
     "metadata": {},
     "output_type": "execute_result"
    }
   ],
   "source": [
    "embedded_docs[0]"
   ]
  },
  {
   "cell_type": "code",
   "execution_count": 20,
   "id": "ca554bfe",
   "metadata": {},
   "outputs": [
    {
     "name": "stdout",
     "output_type": "stream",
     "text": [
      "\u001b[1m1/1\u001b[0m \u001b[32m━━━━━━━━━━━━━━━━━━━━\u001b[0m\u001b[37m\u001b[0m \u001b[1m0s\u001b[0m 226ms/step\n"
     ]
    },
    {
     "data": {
      "text/plain": [
       "array([[-0.03718107, -0.03438707, -0.01315325,  0.03640011, -0.03744779,\n",
       "        -0.01003444, -0.02465246,  0.04079432, -0.00116934,  0.04380847],\n",
       "       [-0.03718107, -0.03438707, -0.01315325,  0.03640011, -0.03744779,\n",
       "        -0.01003444, -0.02465246,  0.04079432, -0.00116934,  0.04380847],\n",
       "       [-0.03718107, -0.03438707, -0.01315325,  0.03640011, -0.03744779,\n",
       "        -0.01003444, -0.02465246,  0.04079432, -0.00116934,  0.04380847],\n",
       "       [-0.03718107, -0.03438707, -0.01315325,  0.03640011, -0.03744779,\n",
       "        -0.01003444, -0.02465246,  0.04079432, -0.00116934,  0.04380847],\n",
       "       [ 0.02358421,  0.03494655,  0.04839052,  0.04278009,  0.00705037,\n",
       "         0.02141276, -0.02597066, -0.00304744, -0.02767801,  0.02167602],\n",
       "       [ 0.00162572,  0.00658501,  0.03997655, -0.01697135, -0.0312331 ,\n",
       "         0.02414126, -0.01574846,  0.00763673,  0.02791994,  0.02085253],\n",
       "       [ 0.01798632,  0.03850031,  0.04998961, -0.04489064, -0.03547652,\n",
       "        -0.04708242, -0.0280565 ,  0.04717592, -0.03198951, -0.00060489],\n",
       "       [ 0.00239477,  0.0370319 , -0.02039977,  0.03700921, -0.0129784 ,\n",
       "         0.0066844 , -0.00336035,  0.03272041, -0.04021408,  0.02106008]],\n",
       "      dtype=float32)"
      ]
     },
     "execution_count": 20,
     "metadata": {},
     "output_type": "execute_result"
    }
   ],
   "source": [
    "model.predict(embedded_docs[0])"
   ]
  },
  {
   "cell_type": "code",
   "execution_count": null,
   "id": "88839818",
   "metadata": {},
   "outputs": [],
   "source": []
  }
 ],
 "metadata": {
  "kernelspec": {
   "display_name": ".venv",
   "language": "python",
   "name": "python3"
  },
  "language_info": {
   "codemirror_mode": {
    "name": "ipython",
    "version": 3
   },
   "file_extension": ".py",
   "mimetype": "text/x-python",
   "name": "python",
   "nbconvert_exporter": "python",
   "pygments_lexer": "ipython3",
   "version": "3.11.9"
  }
 },
 "nbformat": 4,
 "nbformat_minor": 5
}
